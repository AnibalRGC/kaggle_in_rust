{
 "cells": [
  {
   "cell_type": "code",
   "execution_count": null,
   "metadata": {},
   "outputs": [],
   "source": [
    "import numpy as np # linear algebra\n",
    "import polars as pl # data processing, CSV file I/O (e.g. pd.read_csv)\n",
    "\n",
    "# Input data files are available in the \"../input/\" directory.\n",
    "# For example, running this (by clicking run or pressing Shift+Enter) will list all files under the input directory\n",
    "\n",
    "import os\n",
    "for dirname, _, filenames in os.walk('/kaggle/input'):\n",
    "    for filename in filenames:\n",
    "        print(os.path.join(dirname, filename))"
   ]
  },
  {
   "cell_type": "code",
   "execution_count": null,
   "metadata": {},
   "outputs": [],
   "source": [
    "\n",
    "\n",
    "train_data = pl.read_csv(\"../data/titanic/train.csv\")\n",
    "train_data.head()\n"
   ]
  },
  {
   "cell_type": "code",
   "execution_count": null,
   "metadata": {},
   "outputs": [],
   "source": [
    "test_data = pl.read_csv(\"../data/titanic/test.csv\")\n",
    "test_data.head()"
   ]
  },
  {
   "cell_type": "code",
   "execution_count": null,
   "metadata": {},
   "outputs": [],
   "source": [
    "\n",
    "women = train_data.filter(pl.col('Sex')=='female')['Survived']\n",
    "rate_women = sum(women)/len(women)\n",
    "\n",
    "print(\"% of women who survived:\", rate_women)"
   ]
  },
  {
   "cell_type": "code",
   "execution_count": null,
   "metadata": {},
   "outputs": [],
   "source": [
    "men = train_data.filter(pl.col('Sex')=='male')['Survived']\n",
    "rate_men = sum(men)/len(men)\n",
    "\n",
    "print(\"% of men who survived:\", rate_men)"
   ]
  },
  {
   "cell_type": "code",
   "execution_count": 16,
   "metadata": {},
   "outputs": [
    {
     "name": "stdout",
     "output_type": "stream",
     "text": [
      "shape: (5, 5)\n",
      "┌────────┬────────────┬──────────┬───────┬───────┐\n",
      "│ Pclass ┆ Sex_female ┆ Sex_male ┆ SibSp ┆ Parch │\n",
      "│ ---    ┆ ---        ┆ ---      ┆ ---   ┆ ---   │\n",
      "│ i64    ┆ u8         ┆ u8       ┆ i64   ┆ i64   │\n",
      "╞════════╪════════════╪══════════╪═══════╪═══════╡\n",
      "│ 3      ┆ 0          ┆ 1        ┆ 1     ┆ 0     │\n",
      "│ 1      ┆ 1          ┆ 0        ┆ 1     ┆ 0     │\n",
      "│ 3      ┆ 1          ┆ 0        ┆ 0     ┆ 0     │\n",
      "│ 1      ┆ 1          ┆ 0        ┆ 1     ┆ 0     │\n",
      "│ 3      ┆ 0          ┆ 1        ┆ 0     ┆ 0     │\n",
      "└────────┴────────────┴──────────┴───────┴───────┘\n"
     ]
    },
    {
     "ename": "AssertionError",
     "evalue": "",
     "output_type": "error",
     "traceback": [
      "\u001b[0;31m---------------------------------------------------------------------------\u001b[0m",
      "\u001b[0;31mAssertionError\u001b[0m                            Traceback (most recent call last)",
      "Cell \u001b[0;32mIn[16], line 8\u001b[0m\n\u001b[1;32m      6\u001b[0m X \u001b[39m=\u001b[39m train_data\u001b[39m.\u001b[39mselect(features)\u001b[39m.\u001b[39mto_dummies(columns\u001b[39m=\u001b[39m\u001b[39m'\u001b[39m\u001b[39mSex\u001b[39m\u001b[39m'\u001b[39m)\n\u001b[1;32m      7\u001b[0m \u001b[39mprint\u001b[39m(X\u001b[39m.\u001b[39mhead())\n\u001b[0;32m----> 8\u001b[0m \u001b[39massert\u001b[39;00m(\u001b[39mFalse\u001b[39;00m)\n\u001b[1;32m      9\u001b[0m X_test \u001b[39m=\u001b[39m test_data\u001b[39m.\u001b[39mselect(features)\u001b[39m.\u001b[39mto_dummies(columns\u001b[39m=\u001b[39m\u001b[39m'\u001b[39m\u001b[39mSex\u001b[39m\u001b[39m'\u001b[39m)\n\u001b[1;32m     11\u001b[0m model \u001b[39m=\u001b[39m RandomForestClassifier(n_estimators\u001b[39m=\u001b[39m\u001b[39m100\u001b[39m, max_depth\u001b[39m=\u001b[39m\u001b[39m5\u001b[39m, random_state\u001b[39m=\u001b[39m\u001b[39m1\u001b[39m)\n",
      "\u001b[0;31mAssertionError\u001b[0m: "
     ]
    }
   ],
   "source": [
    "from sklearn.ensemble import RandomForestClassifier\n",
    "\n",
    "y = train_data[\"Survived\"]\n",
    "\n",
    "features = [\"Pclass\", \"Sex\", \"SibSp\", \"Parch\"]\n",
    "X = train_data.select(features).to_dummies(columns='Sex')\n",
    "print(X.head())\n",
    "assert(False)\n",
    "X_test = test_data.select(features).to_dummies(columns='Sex')\n",
    "\n",
    "model = RandomForestClassifier(n_estimators=100, max_depth=5, random_state=1)\n",
    "model.fit(X.to_numpy(), y.to_numpy())\n",
    "predictions = model.predict(X_test.to_numpy())\n",
    "\n",
    "output = pl.DataFrame({'PassengerId': test_data['PassengerId'], 'Survived': predictions})\n",
    "output.write_csv('submission.csv')\n",
    "print(\"Your submission was successfully saved!\")"
   ]
  }
 ],
 "metadata": {
  "kernelspec": {
   "display_name": "Python 3",
   "language": "python",
   "name": "python3"
  },
  "language_info": {
   "codemirror_mode": {
    "name": "ipython",
    "version": 3
   },
   "file_extension": ".py",
   "mimetype": "text/x-python",
   "name": "python",
   "nbconvert_exporter": "python",
   "pygments_lexer": "ipython3",
   "version": "3.11.4"
  },
  "orig_nbformat": 4
 },
 "nbformat": 4,
 "nbformat_minor": 2
}
